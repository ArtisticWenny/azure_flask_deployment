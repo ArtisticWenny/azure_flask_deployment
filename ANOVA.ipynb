{
  "nbformat": 4,
  "nbformat_minor": 0,
  "metadata": {
    "colab": {
      "provenance": [],
      "authorship_tag": "ABX9TyMsnn3Y+qRBYo7siKWOQzTR",
      "include_colab_link": true
    },
    "kernelspec": {
      "name": "python3",
      "display_name": "Python 3"
    },
    "language_info": {
      "name": "python"
    }
  },
  "cells": [
    {
      "cell_type": "markdown",
      "metadata": {
        "id": "view-in-github",
        "colab_type": "text"
      },
      "source": [
        "<a href=\"https://colab.research.google.com/github/ArtisticWenny/azure_flask_deployment/blob/main/ANOVA.ipynb\" target=\"_parent\"><img src=\"https://colab.research.google.com/assets/colab-badge.svg\" alt=\"Open In Colab\"/></a>"
      ]
    },
    {
      "cell_type": "code",
      "execution_count": 42,
      "metadata": {
        "id": "b8KNX6dgRd-K"
      },
      "outputs": [],
      "source": [
        "import numpy as np\n",
        "import pandas as pd\n",
        "from scipy.stats import f_oneway\n",
        "from scipy.stats import chi2_contingency, ttest_ind\n",
        "\n",
        "\n",
        "import pandas as pd\n",
        "from scipy.stats import chi2_contingency, ttest_ind\n",
        "import statsmodels.api as sm\n",
        "from statsmodels.formula.api import ols\n",
        "import numpy as np\n",
        "import matplotlib.pyplot as plt\n",
        "import plotly.express as px\n",
        "import statsmodels.api as sm\n",
        "import scipy.stats as stats\n",
        ""
      ]
    },
    {
      "cell_type": "code",
      "source": [
        "from google.colab import drive\n",
        "\n",
        "drive.mount('/content/drive')"
      ],
      "metadata": {
        "colab": {
          "base_uri": "https://localhost:8080/"
        },
        "id": "68yop6KhSxj5",
        "outputId": "4ef9e82e-8550-4474-f458-02cf575aef3b"
      },
      "execution_count": 2,
      "outputs": [
        {
          "output_type": "stream",
          "name": "stdout",
          "text": [
            "Mounted at /content/drive\n"
          ]
        }
      ]
    },
    {
      "cell_type": "code",
      "source": [
        "csv_file_path = ['/content/drive/MyDrive/PLACES__Local_Data_for_Better_Health__County_Data_2023_release.csv']\n",
        "\n",
        "df = pd.read_csv('/content/drive/MyDrive/PLACES__Local_Data_for_Better_Health__County_Data_2023_release.csv')\n",
        "\n",
        "print(df.head)"
      ],
      "metadata": {
        "id": "Hv6Ik9-OSzmN"
      },
      "execution_count": null,
      "outputs": []
    },
    {
      "cell_type": "code",
      "source": [
        "df['LocationName'] = df['LocationName'].astype('category')\n"
      ],
      "metadata": {
        "id": "qN6nvNLyTGng"
      },
      "execution_count": 5,
      "outputs": []
    },
    {
      "cell_type": "code",
      "source": [
        "grouped_data = df.groupby('LocationName')\n"
      ],
      "metadata": {
        "id": "7dNuSDR9GOhV"
      },
      "execution_count": 6,
      "outputs": []
    },
    {
      "cell_type": "code",
      "source": [
        "# Create a Pandas DataFrame\n",
        "df = pd.read_csv('/content/drive/MyDrive/PLACES__Local_Data_for_Better_Health__County_Data_2023_release.csv')\n",
        "\n",
        "# Call out a specific variable in columns\n",
        "Short_Question_Text = df['Short_Question_Text']\n",
        "\n",
        "# Print the variable\n",
        "print(Short_Question_Text)\n",
        "\n",
        "\n"
      ],
      "metadata": {
        "colab": {
          "base_uri": "https://localhost:8080/"
        },
        "id": "IbLEqQLlHQ0T",
        "outputId": "d4b675dd-1401-4e5a-d592-22f75c2f2468"
      },
      "execution_count": 26,
      "outputs": [
        {
          "output_type": "stream",
          "name": "stdout",
          "text": [
            "0                               Current Asthma\n",
            "1                                     Diabetes\n",
            "2                                     Diabetes\n",
            "3       Core preventive services for older men\n",
            "4                         Cancer (except skin)\n",
            "                         ...                  \n",
            "4287                      Cancer (except skin)\n",
            "4288                                    Stroke\n",
            "4289                          Health Insurance\n",
            "4290                      Cancer (except skin)\n",
            "4291                                      COPD\n",
            "Name: Short_Question_Text, Length: 4292, dtype: object\n"
          ]
        }
      ]
    },
    {
      "cell_type": "code",
      "source": [
        "row = df.loc[0]\n",
        "\n",
        "# Create a variable for the row\n",
        "variable = row['current_asthma']\n",
        "\n",
        "# Print the variable\n",
        "print(variable)"
      ],
      "metadata": {
        "id": "dZ7VJasFJX2i"
      },
      "execution_count": null,
      "outputs": []
    },
    {
      "cell_type": "code",
      "source": [
        "asthma_prevalence_means = grouped_data['current_asthma'].mean()\n",
        "asthma_prevalence_stds = grouped_data['current_asthma'].std()\n",
        "\n",
        "diabetes_prevalence_means = grouped_data['diagnosed_diabetes'].mean()\n",
        "diabetes_prevalence_stds = grouped_data['diagnosed_diabetes'].std()"
      ],
      "metadata": {
        "id": "XdJhSPv1GRv2"
      },
      "execution_count": null,
      "outputs": []
    },
    {
      "cell_type": "code",
      "source": [
        "asthma_f_statistic, asthma_p_value = f_oneway(asthma_prevalence_means)\n",
        "diabetes_f_statistic, diabetes_p_value = f_oneway(diabetes_prevalence_means)"
      ],
      "metadata": {
        "colab": {
          "base_uri": "https://localhost:8080/",
          "height": 197
        },
        "id": "vEGplGMDTHSi",
        "outputId": "df91d831-c58b-4460-fb34-7c6c934ff5b0"
      },
      "execution_count": 1,
      "outputs": [
        {
          "output_type": "error",
          "ename": "NameError",
          "evalue": "ignored",
          "traceback": [
            "\u001b[0;31m---------------------------------------------------------------------------\u001b[0m",
            "\u001b[0;31mNameError\u001b[0m                                 Traceback (most recent call last)",
            "\u001b[0;32m<ipython-input-1-d2c38773947c>\u001b[0m in \u001b[0;36m<cell line: 1>\u001b[0;34m()\u001b[0m\n\u001b[0;32m----> 1\u001b[0;31m \u001b[0masthma_f_statistic\u001b[0m\u001b[0;34m,\u001b[0m \u001b[0masthma_p_value\u001b[0m \u001b[0;34m=\u001b[0m \u001b[0mf_oneway\u001b[0m\u001b[0;34m(\u001b[0m\u001b[0masthma_prevalence_means\u001b[0m\u001b[0;34m)\u001b[0m\u001b[0;34m\u001b[0m\u001b[0;34m\u001b[0m\u001b[0m\n\u001b[0m\u001b[1;32m      2\u001b[0m \u001b[0mdiabetes_f_statistic\u001b[0m\u001b[0;34m,\u001b[0m \u001b[0mdiabetes_p_value\u001b[0m \u001b[0;34m=\u001b[0m \u001b[0mf_oneway\u001b[0m\u001b[0;34m(\u001b[0m\u001b[0mdiabetes_prevalence_means\u001b[0m\u001b[0;34m)\u001b[0m\u001b[0;34m\u001b[0m\u001b[0;34m\u001b[0m\u001b[0m\n",
            "\u001b[0;31mNameError\u001b[0m: name 'f_oneway' is not defined"
          ]
        }
      ]
    }
  ]
}